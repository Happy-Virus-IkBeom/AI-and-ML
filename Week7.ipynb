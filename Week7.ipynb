{
 "cells": [
  {
   "cell_type": "markdown",
   "metadata": {},
   "source": [
    "# Week 7\n",
    "\n",
    "Logistic regression with PyTorch"
   ]
  },
  {
   "cell_type": "code",
   "execution_count": 25,
   "metadata": {},
   "outputs": [],
   "source": [
    "import torch\n",
    "import torch.nn as nn\n",
    "from torch.optim import Optimizer\n",
    "from torch.utils.data import DataLoader\n",
    "\n",
    "# torchvision: popular datasets, model architectures, and common image transformations for computer vision.\n",
    "from torchvision import datasets\n",
    "from torchvision.transforms import transforms\n",
    "\n",
    "import numpy as np\n",
    "import matplotlib.pyplot as plt\n",
    "\n",
    "\n",
    "'''\n",
    "Step 1: Prepare dataset\n",
    "'''\n",
    "# Use data with only 4 and 9 as labels: which is hardest to classify\n",
    "label_1, label_2 = 4, 9\n",
    "# will see softmax later on\n",
    "\n",
    "# MNIST training data 70,000\n",
    "# train_set has size 60,000\n",
    "train_set = datasets.MNIST(root='./mnist_data/',\n",
    "                           train=True,\n",
    "                           transform=transforms.ToTensor(),\n",
    "                           download=True)\n",
    "\n",
    "# MNIST testing data\n",
    "test_set = datasets.MNIST(root='./mnist_data/',\n",
    "                          train=False,\n",
    "                          transform=transforms.ToTensor())"
   ]
  },
  {
   "cell_type": "code",
   "execution_count": 26,
   "metadata": {},
   "outputs": [
    {
     "name": "stdout",
     "output_type": "stream",
     "text": [
      "torch.Size([60000, 28, 28])\n",
      "tensor([[  0,   0,   0,   0,   0,   0,   0,   0,   0,   0,   0,   0,   0,   0,   0,   0,   0,   0,   0,   0,   0,   0,   0,   0,   0,   0,   0,   0],\n",
      "        [  0,   0,   0,   0,   0,   0,   0,   0,   0,   0,   0,   0,   0,   0,   0,   0,   0,   0,   0,   0,   0,   0,   0,   0,   0,   0,   0,   0],\n",
      "        [  0,   0,   0,   0,   0,   0,   0,   0,   0,   0,   0,   0,   0,   0,   0,   0,   0,   0,   0,   0,   0,   0,   0,   0,   0,   0,   0,   0],\n",
      "        [  0,   0,   0,   0,   0,   0,   0,   0,   0,   0,   0,   0,   0,   0,   0,   0,   0,   0,   0,   0,   0,   0,   0,   0,   0,   0,   0,   0],\n",
      "        [  0,   0,   0,   0,   0,   0,   0,   0,   0,   0,   0,   0,   0,   0,   0,   0,   0,   0,   0,   0,   0,   0,   0,   0,   0,   0,   0,   0],\n",
      "        [  0,   0,   0,   0,   0,   0,   0,   0,   0,   0,   0,   0,   3,  18,  18,  18, 126, 136, 175,  26, 166, 255, 247, 127,   0,   0,   0,   0],\n",
      "        [  0,   0,   0,   0,   0,   0,   0,   0,  30,  36,  94, 154, 170, 253, 253, 253, 253, 253, 225, 172, 253, 242, 195,  64,   0,   0,   0,   0],\n",
      "        [  0,   0,   0,   0,   0,   0,   0,  49, 238, 253, 253, 253, 253, 253, 253, 253, 253, 251,  93,  82,  82,  56,  39,   0,   0,   0,   0,   0],\n",
      "        [  0,   0,   0,   0,   0,   0,   0,  18, 219, 253, 253, 253, 253, 253, 198, 182, 247, 241,   0,   0,   0,   0,   0,   0,   0,   0,   0,   0],\n",
      "        [  0,   0,   0,   0,   0,   0,   0,   0,  80, 156, 107, 253, 253, 205,  11,   0,  43, 154,   0,   0,   0,   0,   0,   0,   0,   0,   0,   0],\n",
      "        [  0,   0,   0,   0,   0,   0,   0,   0,   0,  14,   1, 154, 253,  90,   0,   0,   0,   0,   0,   0,   0,   0,   0,   0,   0,   0,   0,   0],\n",
      "        [  0,   0,   0,   0,   0,   0,   0,   0,   0,   0,   0, 139, 253, 190,   2,   0,   0,   0,   0,   0,   0,   0,   0,   0,   0,   0,   0,   0],\n",
      "        [  0,   0,   0,   0,   0,   0,   0,   0,   0,   0,   0,  11, 190, 253,  70,   0,   0,   0,   0,   0,   0,   0,   0,   0,   0,   0,   0,   0],\n",
      "        [  0,   0,   0,   0,   0,   0,   0,   0,   0,   0,   0,   0,  35, 241, 225, 160, 108,   1,   0,   0,   0,   0,   0,   0,   0,   0,   0,   0],\n",
      "        [  0,   0,   0,   0,   0,   0,   0,   0,   0,   0,   0,   0,   0,  81, 240, 253, 253, 119,  25,   0,   0,   0,   0,   0,   0,   0,   0,   0],\n",
      "        [  0,   0,   0,   0,   0,   0,   0,   0,   0,   0,   0,   0,   0,   0,  45, 186, 253, 253, 150,  27,   0,   0,   0,   0,   0,   0,   0,   0],\n",
      "        [  0,   0,   0,   0,   0,   0,   0,   0,   0,   0,   0,   0,   0,   0,   0,  16,  93, 252, 253, 187,   0,   0,   0,   0,   0,   0,   0,   0],\n",
      "        [  0,   0,   0,   0,   0,   0,   0,   0,   0,   0,   0,   0,   0,   0,   0,   0,   0, 249, 253, 249,  64,   0,   0,   0,   0,   0,   0,   0],\n",
      "        [  0,   0,   0,   0,   0,   0,   0,   0,   0,   0,   0,   0,   0,   0,  46, 130, 183, 253, 253, 207,   2,   0,   0,   0,   0,   0,   0,   0],\n",
      "        [  0,   0,   0,   0,   0,   0,   0,   0,   0,   0,   0,   0,  39, 148, 229, 253, 253, 253, 250, 182,   0,   0,   0,   0,   0,   0,   0,   0],\n",
      "        [  0,   0,   0,   0,   0,   0,   0,   0,   0,   0,  24, 114, 221, 253, 253, 253, 253, 201,  78,   0,   0,   0,   0,   0,   0,   0,   0,   0],\n",
      "        [  0,   0,   0,   0,   0,   0,   0,   0,  23,  66, 213, 253, 253, 253, 253, 198,  81,   2,   0,   0,   0,   0,   0,   0,   0,   0,   0,   0],\n",
      "        [  0,   0,   0,   0,   0,   0,  18, 171, 219, 253, 253, 253, 253, 195,  80,   9,   0,   0,   0,   0,   0,   0,   0,   0,   0,   0,   0,   0],\n",
      "        [  0,   0,   0,   0,  55, 172, 226, 253, 253, 253, 253, 244, 133,  11,   0,   0,   0,   0,   0,   0,   0,   0,   0,   0,   0,   0,   0,   0],\n",
      "        [  0,   0,   0,   0, 136, 253, 253, 253, 212, 135, 132,  16,   0,   0,   0,   0,   0,   0,   0,   0,   0,   0,   0,   0,   0,   0,   0,   0],\n",
      "        [  0,   0,   0,   0,   0,   0,   0,   0,   0,   0,   0,   0,   0,   0,   0,   0,   0,   0,   0,   0,   0,   0,   0,   0,   0,   0,   0,   0],\n",
      "        [  0,   0,   0,   0,   0,   0,   0,   0,   0,   0,   0,   0,   0,   0,   0,   0,   0,   0,   0,   0,   0,   0,   0,   0,   0,   0,   0,   0],\n",
      "        [  0,   0,   0,   0,   0,   0,   0,   0,   0,   0,   0,   0,   0,   0,   0,   0,   0,   0,   0,   0,   0,   0,   0,   0,   0,   0,   0,   0]],\n",
      "       dtype=torch.uint8)\n",
      "tensor(5)\n"
     ]
    }
   ],
   "source": [
    "torch.set_printoptions(linewidth=150)\n",
    "print(train_set.data.shape)\n",
    "print(train_set.data[0])\n",
    "print(train_set.targets[0]) # label"
   ]
  },
  {
   "cell_type": "code",
   "execution_count": 27,
   "metadata": {},
   "outputs": [
    {
     "name": "stdout",
     "output_type": "stream",
     "text": [
      "tensor([False, False,  True,  ..., False, False, False])\n"
     ]
    }
   ],
   "source": [
    "# Use data with two labels\n",
    "idx = (train_set.targets == label_1) + (train_set.targets == label_2)\n",
    "print(idx)"
   ]
  },
  {
   "cell_type": "code",
   "execution_count": 28,
   "metadata": {},
   "outputs": [
    {
     "name": "stdout",
     "output_type": "stream",
     "text": [
      "tensor([-1,  1, -1,  ..., -1,  1,  1])\n",
      "torch.Size([11791, 28, 28])\n"
     ]
    }
   ],
   "source": [
    "train_set.data = train_set.data[idx]\n",
    "train_set.targets = train_set.targets[idx]\n",
    "train_set.targets[train_set.targets==label_1] = -1\n",
    "train_set.targets[train_set.targets==label_2] = 1\n",
    "print(train_set.targets)\n",
    "print(train_set.data.shape)"
   ]
  },
  {
   "cell_type": "code",
   "execution_count": 29,
   "metadata": {},
   "outputs": [],
   "source": [
    "# Use data with two labels\n",
    "idx = (test_set.targets == label_1) + (test_set.targets == label_2)\n",
    "test_set.data = test_set.data[idx]\n",
    "test_set.targets = test_set.targets[idx]\n",
    "test_set.targets[test_set.targets == label_1] = -1\n",
    "test_set.targets[test_set.targets == label_2] = 1"
   ]
  },
  {
   "cell_type": "code",
   "execution_count": 30,
   "metadata": {},
   "outputs": [],
   "source": [
    "'''\n",
    "Step 2: Define the neural network class\n",
    "'''\n",
    "class LogisticRegression(nn.Module):\n",
    "    '''\n",
    "    Initialize model\n",
    "        input_dim : dimension of given input data\n",
    "    '''\n",
    "    # MNIST data is 28x28 images\n",
    "    def __init__(self):\n",
    "        super().__init__()\n",
    "        input_dim = 28*28\n",
    "        self.linear = nn.Linear(input_dim, 1, bias=True)  # input dimension = 28 * 28// output dimension =1 //takes x as an input, returns a^Tx + b\n",
    "\n",
    "    ''' forward given input x '''\n",
    "    def forward(self, x) :\n",
    "        x = self.linear(x.float().view(-1, 28*28)) # x <- a^T x + b , # view technique => reshaping tensor\n",
    "        # initially x is (28, 28) -> (1, 784)\n",
    "        return x  # a^Tx + b"
   ]
  },
  {
   "cell_type": "code",
   "execution_count": 32,
   "metadata": {},
   "outputs": [],
   "source": [
    "'''\n",
    "Step 3: Create the model, specify loss function and optimizer.\n",
    "'''\n",
    "model = LogisticRegression()                                   # Define a Neural Network Model\n",
    "# model(x) = m(x) = a^Tx + b  \n",
    "\n",
    "def logistic_loss(output, target):  # l_{log}(x, y) = log(1+exp(-y*x)) \n",
    "    return -torch.nn.functional.logsigmoid(target*output)\n",
    "\n",
    "loss_function = logistic_loss                                                   # Specify loss function\n",
    "optimizer = torch.optim.SGD(model.parameters(), lr=1e-4)   # specify SGD with learning rate = alpha\n",
    "# model.parameters() -> a, b (it is at parant class)"
   ]
  },
  {
   "cell_type": "code",
   "execution_count": 33,
   "metadata": {},
   "outputs": [],
   "source": [
    "'''\n",
    "Step 4: Train model with SGD\n",
    "'''\n",
    "for _ in range(1000) :\n",
    "    # Sample a random data for training\n",
    "    ind = np.random.randint(0, len(train_set.data)-1)\n",
    "    image, label = train_set.data[ind], train_set.targets[ind]\n",
    "\n",
    "    # Clear previously computed gradient\n",
    "    optimizer.zero_grad()\n",
    "\n",
    "    # then compute gradient with forward and backward passes\n",
    "    train_loss = loss_function(model(image), label.float())\n",
    "    train_loss.backward()\n",
    "\n",
    "    #(This syntax will make more sense once we learn about minibatches)\n",
    "\n",
    "    # perform SGD step (parameter update)\n",
    "    optimizer.step()  # x^{(k+1)} = x^{(k)} - alpha * grad(f)"
   ]
  },
  {
   "cell_type": "code",
   "execution_count": 34,
   "metadata": {},
   "outputs": [
    {
     "name": "stdout",
     "output_type": "stream",
     "text": [
      "[Test set] Average loss: 7.2876, Accuracy: 1878/1991 (94.32%)\n",
      "\n"
     ]
    }
   ],
   "source": [
    "'''\n",
    "Step 5: Test model (Evaluate the accuracy)\n",
    "'''\n",
    "test_loss, correct = 0, 0\n",
    "misclassified_ind = []\n",
    "correct_ind = []\n",
    "\n",
    "# Evaluate accuracy using test data\n",
    "for ind in range(len(test_set.data)) :\n",
    "\n",
    "    image, label = test_set.data[ind], test_set.targets[ind]\n",
    "\n",
    "    # evaluate model\n",
    "    output = model(image)  # y = m(x)\n",
    "\n",
    "    # Calculate cumulative loss  # l_log(m(x), y)\n",
    "    test_loss += loss_function(output, label.float()).item()\n",
    "\n",
    "    # Make a prediction\n",
    "    if output.item() * label.item() >= 0:  # y * (a^Tx+b) > 0\n",
    "        correct += 1\n",
    "        correct_ind += [ind]\n",
    "    else:\n",
    "        misclassified_ind += [ind]\n",
    "\n",
    "# Print out the results\n",
    "print('[Test set] Average loss: {:.4f}, Accuracy: {}/{} ({:.2f}%)\\n'.format(\n",
    "        test_loss /len(test_set.data), correct, len(test_set.data),\n",
    "        100. * correct / len(test_set.data)))"
   ]
  },
  {
   "cell_type": "code",
   "execution_count": 35,
   "metadata": {
    "scrolled": true
   },
   "outputs": [
    {
     "name": "stdout",
     "output_type": "stream",
     "text": [
      "\n",
      "\n"
     ]
    },
    {
     "data": {
      "image/png": "[encoded data removed]",
      "text/plain": [
       "<Figure size 1080x432 with 3 Axes>"
      ]
     },
     "metadata": {
      "needs_background": "light"
     },
     "output_type": "display_data"
    },
    {
     "data": {
      "image/png": "[encoded data removed]",
      "text/plain": [
       "<Figure size 1080x432 with 3 Axes>"
      ]
     },
     "metadata": {
      "needs_background": "light"
     },
     "output_type": "display_data"
    }
   ],
   "source": [
    "'''\n",
    "Step 6: Show some incorrectly classified images and some correctly classified ones\n",
    "''' \n",
    "# Misclassified images\n",
    "fig = plt.figure(1, figsize=(15, 6))\n",
    "fig.suptitle('Misclassified Figures', fontsize=16)\n",
    "\n",
    "for k in range(3) :\n",
    "    image = test_set.data[misclassified_ind[k]].cpu().numpy().astype('uint8')\n",
    "    ax = fig.add_subplot(1, 3, k+1)\n",
    "    true_label = test_set.targets[misclassified_ind[k]]\n",
    "\n",
    "    if true_label == -1 :\n",
    "        ax.set_title('True Label: {}\\nPrediction: {}'.format(label_1, label_2))\n",
    "    else :\n",
    "        ax.set_title('True Label: {}\\nPrediction: {}'.format(label_2, label_1))\n",
    "    plt.imshow(image, cmap='gray')\n",
    "plt.show()\n",
    "\n",
    "# Correctly classified images\n",
    "fig = plt.figure(2, figsize=(15, 6))\n",
    "fig.suptitle('Correctly-classified Figures', fontsize=16)\n",
    "\n",
    "for k in range(3) :\n",
    "    image = test_set.data[correct_ind[k]].cpu().numpy().astype('uint8')\n",
    "    ax = fig.add_subplot(1, 3, k+1)\n",
    "    true_label = test_set.targets[correct_ind[k]]\n",
    "\n",
    "    if true_label == -1 :\n",
    "        ax.set_title('True Label: {}\\nPrediction: {}'.format(label_1, label_1))\n",
    "    else :\n",
    "        ax.set_title('True Label: {}\\nPrediction: {}'.format(label_2, label_2))\n",
    "    plt.imshow(image, cmap='gray')\n",
    "plt.show()"
   ]
  },
  {
   "cell_type": "markdown",
   "metadata": {},
   "source": [
    "### More on torch.nn Module"
   ]
  },
  {
   "cell_type": "code",
   "execution_count": 36,
   "metadata": {},
   "outputs": [
    {
     "name": "stdout",
     "output_type": "stream",
     "text": [
      "<generator object Module.parameters at 0x000001C8630529C8>\n"
     ]
    }
   ],
   "source": [
    "# model parameters visible as an iterator (a generator is an iterator)\n",
    "print(model.parameters())"
   ]
  },
  {
   "cell_type": "code",
   "execution_count": 39,
   "metadata": {},
   "outputs": [
    {
     "name": "stdout",
     "output_type": "stream",
     "text": [
      "torch.Size([1, 784])\n",
      "torch.Size([1])\n",
      " \n",
      "linear.weight\n",
      "torch.Size([1, 784])\n",
      "linear.bias\n",
      "torch.Size([1])\n"
     ]
    }
   ],
   "source": [
    "for parameter in model.parameters():\n",
    "    print(parameter.shape)\n",
    "print(' ')    \n",
    "for name, param in model.named_parameters():\n",
    "    print(name)\n",
    "    print(param.shape)"
   ]
  },
  {
   "cell_type": "code",
   "execution_count": 44,
   "metadata": {},
   "outputs": [
    {
     "name": "stdout",
     "output_type": "stream",
     "text": [
      "Linear(in_features=784, out_features=1, bias=True)\n",
      "torch.Size([1, 784])\n"
     ]
    }
   ],
   "source": [
    "# model parameter directly obtainable from layer\n",
    "print(model.linear)\n",
    "print(model.linear.weight.shape)\n",
    "#print(model.linear.bias)  #available if bias=True"
   ]
  },
  {
   "cell_type": "code",
   "execution_count": 46,
   "metadata": {},
   "outputs": [
    {
     "name": "stdout",
     "output_type": "stream",
     "text": [
      "Parameter containing:\n",
      "tensor([-0.0024], requires_grad=True)\n",
      "tensor([-343.1318], grad_fn=<AddBackward0>)\n"
     ]
    }
   ],
   "source": [
    "# # evaluate the model several equivalent ways\n",
    "# model(image)\n",
    "print(model.linear.bias)  #available if bias=True\n",
    "print(torch.sum(model.linear.weight*test_set.data[0].reshape(28*28))+model.linear.bias)"
   ]
  },
  {
   "cell_type": "code",
   "execution_count": 47,
   "metadata": {},
   "outputs": [
    {
     "name": "stdout",
     "output_type": "stream",
     "text": [
      "tensor([-343.1318])\n"
     ]
    }
   ],
   "source": [
    "print(torch.sum(model.linear.weight.detach()*test_set.data[0].reshape(28*28))+model.linear.bias.detach())"
   ]
  },
  {
   "cell_type": "code",
   "execution_count": 58,
   "metadata": {},
   "outputs": [
    {
     "name": "stdout",
     "output_type": "stream",
     "text": [
      "tensor([[-343.1318]], grad_fn=<AddmmBackward>)\n",
      "tensor(-1)\n"
     ]
    }
   ],
   "source": [
    "# print(model.linear(test_set.data[0].float().view(-1, 28*28)))\n",
    "# print(model.linear(test_set.data[0].float().view(-1, 28*28)).detach())\n",
    "print(model(test_set.data[0]))\n",
    "# a^Tx + b <0 -> we are going to say the data of label -1\n",
    "# a^Tx + b > 0 -> we are going to say the data of label 1\n",
    "print(test_set.targets[0])"
   ]
  },
  {
   "cell_type": "code",
   "execution_count": 59,
   "metadata": {},
   "outputs": [
    {
     "data": {
      "image/png": "[encoded data removed]",
      "text/plain": [
       "<Figure size 432x288 with 1 Axes>"
      ]
     },
     "metadata": {
      "needs_background": "light"
     },
     "output_type": "display_data"
    }
   ],
   "source": [
    "# view the weight trained through logistic regression\n",
    "weight = model.linear.weight.detach().reshape(28,28).numpy()  # a^Tx = a_1x_1 + a_2x_2 + ... a_784x_784\n",
    "weight = weight - np.min(weight)\n",
    "weight = weight/np.max(weight)\n",
    "plt.imshow(weight, cmap='gray')\n",
    "plt.show()\n",
    "\n",
    "# in order to say the image is 4 -> a^Tx+b < 0"
   ]
  },
  {
   "cell_type": "markdown",
   "metadata": {},
   "source": [
    "## Dataloader"
   ]
  },
  {
   "cell_type": "code",
   "execution_count": 67,
   "metadata": {},
   "outputs": [
    {
     "name": "stdout",
     "output_type": "stream",
     "text": [
      "[Test set] Average loss: 0.1560, Accuracy: 1884/1991 (94.63%)\n",
      "\n"
     ]
    },
    {
     "data": {
      "image/png": "[encoded data removed]",
      "text/plain": [
       "<Figure size 1080x432 with 3 Axes>"
      ]
     },
     "metadata": {
      "needs_background": "light"
     },
     "output_type": "display_data"
    },
    {
     "data": {
      "image/png": "[encoded data removed]",
      "text/plain": [
       "<Figure size 1080x432 with 3 Axes>"
      ]
     },
     "metadata": {
      "needs_background": "light"
     },
     "output_type": "display_data"
    }
   ],
   "source": [
    "import torch\n",
    "import torch.nn as nn\n",
    "from torch.optim import Optimizer\n",
    "from torch.utils.data import DataLoader\n",
    "from torchvision import datasets\n",
    "from torchvision.transforms import transforms\n",
    "\n",
    "\n",
    "'''\n",
    "Step 1: (same step)\n",
    "'''\n",
    "# Use data with only 4 and 9 as labels: which is hardest to classify\n",
    "label_1, label_2 = 4, 9\n",
    "\n",
    "# MNIST training data\n",
    "train_set = datasets.MNIST(root='./mnist_data/', train=True, transform=transforms.ToTensor(), download=True)\n",
    "\n",
    "# Use data with two labels\n",
    "idx = (train_set.targets == label_1) + (train_set.targets == label_2)\n",
    "train_set.data = train_set.data[idx]\n",
    "train_set.targets = train_set.targets[idx]\n",
    "train_set.targets[train_set.targets == label_1] = -1\n",
    "train_set.targets[train_set.targets == label_2] = 1\n",
    "\n",
    "# MNIST testing data\n",
    "test_set = datasets.MNIST(root='./mnist_data/', train=False, transform=transforms.ToTensor())\n",
    "\n",
    "# Use data with two labels\n",
    "idx = (test_set.targets == label_1) + (test_set.targets == label_2)\n",
    "test_set.data = test_set.data[idx]\n",
    "test_set.targets = test_set.targets[idx]\n",
    "test_set.targets[test_set.targets == label_1] = -1\n",
    "test_set.targets[test_set.targets == label_2] = 1\n",
    "    \n",
    "\n",
    "'''\n",
    "Step 2: (same step)\n",
    "'''\n",
    "class LR(nn.Module) :\n",
    "    '''\n",
    "    Initialize model\n",
    "        input_dim : dimension of given input data\n",
    "    '''\n",
    "    # MNIST data is 28x28 images\n",
    "    def __init__(self, input_dim=28*28) :\n",
    "        super().__init__()\n",
    "        self.linear = nn.Linear(input_dim, 1, bias=False)\n",
    "\n",
    "    ''' forward given input x '''\n",
    "    def forward(self, x) :\n",
    "        return self.linear(x.float().view(-1, 28*28))\n",
    "\n",
    "'''\n",
    "Step 3: (LOOK HERE)\n",
    "'''\n",
    "model = LR()                                   \n",
    "\n",
    "def logistic_loss(output, target):\n",
    "    return -torch.nn.functional.logsigmoid(target*output)\n",
    "\n",
    "loss_function = logistic_loss\n",
    "optimizer = torch.optim.SGD(model.parameters(), lr=255*1e-4)   # LR scaled up by 255\n",
    "\n",
    "    \n",
    "'''\n",
    "Step 4: Train model with SGD (LOOK HERE)\n",
    "'''\n",
    "# Use DataLoader class (Press Ctrl+/ to comment in/out)\n",
    "\n",
    "# 1. SGD\n",
    "# from torch.utils.data import RandomSampler\n",
    "# train_loader = DataLoader(dataset=train_set, batch_size=1, sampler=RandomSampler(train_set, replacement=True))\n",
    "\n",
    "# 2. cyclic SGD\n",
    "# train_loader = DataLoader(dataset=train_set, batch_size=1)\n",
    "\n",
    "# 3. random reshuffled SGD\n",
    "train_loader = DataLoader(dataset=train_set, batch_size=1, shuffle=True)\n",
    "# N : size of dataset, M : sample size(batch_size)\n",
    "\n",
    "# Train the model\n",
    "iter_count = 0\n",
    "for image, label in train_loader:\n",
    "    iter_count += 1\n",
    "    if iter_count > 1000:\n",
    "        break\n",
    "\n",
    "    # Clear previously computed gradient\n",
    "    optimizer.zero_grad()\n",
    "\n",
    "    # then compute gradient with forward and backward passes\n",
    "    train_loss = loss_function(model(image), label.float())\n",
    "    train_loss.backward()\n",
    "\n",
    "    # perform SGD step (parameter update)\n",
    "    optimizer.step()\n",
    "\n",
    "\n",
    "'''\n",
    "Step 5: Test model (LOOK HERE)\n",
    "'''\n",
    "test_loss, correct = 0, 0\n",
    "misclassified_ind = []\n",
    "correct_ind = []\n",
    "\n",
    "# Test data\n",
    "test_loader = DataLoader(dataset=test_set, batch_size=1, shuffle=False)\n",
    "# no need to shuffle test data\n",
    "\n",
    "# Evaluate accuracy using test data\n",
    "for ind, (image, label) in enumerate(test_loader) :\n",
    "\n",
    "    # Forward pass\n",
    "    output = model(image)\n",
    "\n",
    "    # Calculate cumulative loss\n",
    "    test_loss += loss_function(output, label.float()).item()\n",
    "\n",
    "    # Make a prediction\n",
    "    if output.item() * label.item() >= 0 : \n",
    "        correct += 1\n",
    "        correct_ind += [ind]\n",
    "    else:\n",
    "        misclassified_ind += [ind]\n",
    "\n",
    "# Print out the results\n",
    "print('[Test set] Average loss: {:.4f}, Accuracy: {}/{} ({:.2f}%)\\n'.format(\n",
    "        test_loss /len(test_loader), correct, len(test_loader),\n",
    "        100. * correct / len(test_loader)))\n",
    "\n",
    "'''\n",
    "Step 6: (same step)\n",
    "''' \n",
    "# Misclassified images\n",
    "fig = plt.figure(1, figsize=(15, 6))\n",
    "fig.suptitle('Misclassified Figures', fontsize=16)\n",
    "\n",
    "for k in range(3) :\n",
    "    image = test_set.data[misclassified_ind[k]].cpu().numpy().astype('uint8')\n",
    "    ax = fig.add_subplot(1, 3, k+1)\n",
    "    true_label = test_set.targets[misclassified_ind[k]]\n",
    "\n",
    "    if true_label == -1 :\n",
    "        ax.set_title('True Label: {}\\nPrediction: {}'.format(label_1, label_2))\n",
    "    else :\n",
    "        ax.set_title('True Label: {}\\nPrediction: {}'.format(label_2, label_1))\n",
    "    plt.imshow(image, cmap='gray')\n",
    "plt.show()\n",
    "\n",
    "# Correctly classified images\n",
    "fig = plt.figure(2, figsize=(15, 6))\n",
    "fig.suptitle('Correctly-classified Figures', fontsize=16)\n",
    "\n",
    "for k in range(3) :\n",
    "    image = test_set.data[correct_ind[k]].cpu().numpy().astype('uint8')\n",
    "    ax = fig.add_subplot(1, 3, k+1)\n",
    "    true_label = test_set.targets[correct_ind[k]]\n",
    "\n",
    "    if true_label == -1 :\n",
    "        ax.set_title('True Label: {}\\nPrediction: {}'.format(label_1, label_1))\n",
    "    else :\n",
    "        ax.set_title('True Label: {}\\nPrediction: {}'.format(label_2, label_2))\n",
    "    plt.imshow(image, cmap='gray')\n",
    "plt.show()"
   ]
  },
  {
   "cell_type": "markdown",
   "metadata": {},
   "source": [
    "### Dataloader scales data"
   ]
  },
  {
   "cell_type": "code",
   "execution_count": 28,
   "metadata": {},
   "outputs": [
    {
     "name": "stdout",
     "output_type": "stream",
     "text": [
      "[tensor([[[[0.0000, 0.0000, 0.0000, 0.0000, 0.0000, 0.0000, 0.0000, 0.0000, 0.0000, 0.0000, 0.0000, 0.0000, 0.0000, 0.0000, 0.0000, 0.0000, 0.0000,\n",
      "           0.0000, 0.0000, 0.0000, 0.0000, 0.0000, 0.0000, 0.0000, 0.0000, 0.0000, 0.0000, 0.0000],\n",
      "          [0.0000, 0.0000, 0.0000, 0.0000, 0.0000, 0.0000, 0.0000, 0.0000, 0.0000, 0.0000, 0.0000, 0.0000, 0.0000, 0.0000, 0.0000, 0.0000, 0.0000,\n",
      "           0.0000, 0.0000, 0.0000, 0.0000, 0.0000, 0.0000, 0.0000, 0.0000, 0.0000, 0.0000, 0.0000],\n",
      "          [0.0000, 0.0000, 0.0000, 0.0000, 0.0000, 0.0000, 0.0000, 0.0000, 0.0000, 0.0000, 0.0000, 0.0000, 0.0000, 0.0000, 0.0000, 0.0000, 0.0000,\n",
      "           0.0000, 0.0000, 0.0000, 0.0000, 0.0000, 0.0000, 0.0000, 0.0000, 0.0000, 0.0000, 0.0000],\n",
      "          [0.0000, 0.0000, 0.0000, 0.0000, 0.0000, 0.0000, 0.0000, 0.0000, 0.0000, 0.0000, 0.0000, 0.0000, 0.0000, 0.0000, 0.0000, 0.0000, 0.0000,\n",
      "           0.0000, 0.0000, 0.0000, 0.0000, 0.0000, 0.0000, 0.0000, 0.0000, 0.0000, 0.0000, 0.0000],\n",
      "          [0.0000, 0.0000, 0.0000, 0.0000, 0.0000, 0.0000, 0.0000, 0.0000, 0.0000, 0.0000, 0.0000, 0.0000, 0.0000, 0.0000, 0.0000, 0.0000, 0.0000,\n",
      "           0.0000, 0.0000, 0.0000, 0.0000, 0.0000, 0.0000, 0.0000, 0.0000, 0.0000, 0.0000, 0.0000],\n",
      "          [0.0000, 0.0000, 0.0000, 0.0000, 0.0000, 0.0000, 0.0000, 0.0000, 0.0000, 0.0000, 0.0000, 0.0000, 0.0000, 0.0000, 0.0000, 0.0000, 0.0000,\n",
      "           0.0000, 0.0000, 0.0000, 0.0000, 0.0000, 0.0000, 0.0000, 0.0000, 0.0000, 0.0000, 0.0000],\n",
      "          [0.0000, 0.0000, 0.0000, 0.0000, 0.0000, 0.0000, 0.0000, 0.0000, 0.0000, 0.0000, 0.0000, 0.0000, 0.0000, 0.0000, 0.0627, 0.0784, 0.0784,\n",
      "           0.0784, 0.0784, 0.0471, 0.0000, 0.0000, 0.0000, 0.0000, 0.0000, 0.0000, 0.0000, 0.0000],\n",
      "          [0.0000, 0.0000, 0.0000, 0.0000, 0.0000, 0.0000, 0.0000, 0.2157, 0.3098, 0.1882, 0.0000, 0.2627, 0.5725, 0.6863, 0.9216, 0.9961, 0.9922,\n",
      "           0.9922, 0.9922, 0.8745, 0.6902, 0.3412, 0.0000, 0.0000, 0.0000, 0.0000, 0.0000, 0.0000],\n",
      "          [0.0000, 0.0000, 0.0000, 0.0000, 0.0000, 0.0000, 0.3098, 0.8510, 0.9922, 0.9608, 0.9216, 0.9804, 0.9922, 0.9922, 0.9922, 0.9961, 0.9922,\n",
      "           0.9922, 0.9922, 0.9922, 0.9961, 0.9843, 0.3882, 0.0118, 0.0000, 0.0000, 0.0000, 0.0000],\n",
      "          [0.0000, 0.0000, 0.0000, 0.0000, 0.0000, 0.1804, 0.9569, 0.9922, 0.9922, 0.9922, 0.9961, 0.9922, 0.9922, 0.9922, 0.9922, 0.9961, 0.6667,\n",
      "           0.6078, 0.6667, 0.9922, 0.9961, 0.9922, 0.9922, 0.2235, 0.0000, 0.0000, 0.0000, 0.0000],\n",
      "          [0.0000, 0.0000, 0.0000, 0.0000, 0.0000, 0.8510, 0.9961, 0.9961, 0.9961, 0.9961, 0.9451, 0.7647, 0.6471, 0.0314, 0.0000, 0.0000, 0.0000,\n",
      "           0.0000, 0.0000, 0.0000, 0.4745, 0.9608, 0.9961, 0.8745, 0.0549, 0.0000, 0.0000, 0.0000],\n",
      "          [0.0000, 0.0000, 0.0000, 0.0000, 0.0000, 0.9961, 0.9922, 0.9922, 0.9922, 0.9922, 0.2667, 0.0000, 0.0000, 0.0000, 0.0000, 0.0000, 0.0000,\n",
      "           0.0000, 0.0000, 0.0000, 0.0000, 0.3373, 0.9686, 0.9922, 0.4039, 0.0000, 0.0000, 0.0000],\n",
      "          [0.0000, 0.0000, 0.0000, 0.0000, 0.0000, 0.9961, 0.9922, 0.8706, 0.9922, 0.7255, 0.0000, 0.0000, 0.0000, 0.0000, 0.0000, 0.0000, 0.0000,\n",
      "           0.0000, 0.0000, 0.0000, 0.0000, 0.0000, 0.6863, 0.9922, 0.6078, 0.0000, 0.0000, 0.0000],\n",
      "          [0.0000, 0.0000, 0.0000, 0.0000, 0.0000, 0.9961, 0.9922, 0.3255, 0.2824, 0.2824, 0.0000, 0.0000, 0.0000, 0.0000, 0.0000, 0.0000, 0.0000,\n",
      "           0.0000, 0.0000, 0.0000, 0.0000, 0.0000, 0.6863, 0.9922, 0.8157, 0.0000, 0.0000, 0.0000],\n",
      "          [0.0000, 0.0000, 0.0000, 0.0000, 0.0000, 0.9961, 0.9922, 0.3059, 0.0000, 0.0000, 0.0000, 0.0000, 0.0000, 0.0000, 0.0000, 0.0000, 0.0000,\n",
      "           0.0000, 0.0000, 0.0000, 0.0000, 0.0000, 0.6863, 0.9922, 0.9922, 0.0000, 0.0000, 0.0000],\n",
      "          [0.0000, 0.0000, 0.0000, 0.0000, 0.0000, 1.0000, 0.9961, 0.3961, 0.0000, 0.0000, 0.0000, 0.0000, 0.0000, 0.0000, 0.0000, 0.0000, 0.0000,\n",
      "           0.0000, 0.0000, 0.0000, 0.0000, 0.0784, 0.9961, 0.9961, 0.7569, 0.0000, 0.0000, 0.0000],\n",
      "          [0.0000, 0.0000, 0.0000, 0.0000, 0.0000, 0.4941, 0.9922, 0.9451, 0.0941, 0.0000, 0.0000, 0.0000, 0.0000, 0.0000, 0.0000, 0.0000, 0.0000,\n",
      "           0.0000, 0.0000, 0.0000, 0.0000, 0.2863, 0.9922, 0.9922, 0.6078, 0.0000, 0.0000, 0.0000],\n",
      "          [0.0000, 0.0000, 0.0000, 0.0000, 0.0000, 0.0706, 0.8863, 0.9922, 0.5725, 0.0000, 0.0000, 0.0000, 0.0000, 0.0000, 0.0000, 0.0000, 0.0000,\n",
      "           0.0000, 0.0000, 0.0000, 0.0000, 0.8392, 0.9922, 0.9922, 0.4941, 0.0000, 0.0000, 0.0000],\n",
      "          [0.0000, 0.0000, 0.0000, 0.0000, 0.0000, 0.0000, 0.4314, 0.9922, 0.9804, 0.7686, 0.0627, 0.0000, 0.0000, 0.0000, 0.0000, 0.0000, 0.0000,\n",
      "           0.0000, 0.0275, 0.1569, 0.9216, 0.9804, 0.9922, 0.8471, 0.1059, 0.0000, 0.0000, 0.0000],\n",
      "          [0.0000, 0.0000, 0.0000, 0.0000, 0.0000, 0.0000, 0.0196, 0.6078, 0.9922, 0.9922, 0.8549, 0.5882, 0.2667, 0.0000, 0.0000, 0.0000, 0.0000,\n",
      "           0.1216, 0.6235, 0.9922, 0.9961, 0.9922, 0.9922, 0.3098, 0.0000, 0.0000, 0.0000, 0.0000],\n",
      "          [0.0000, 0.0000, 0.0000, 0.0000, 0.0000, 0.0000, 0.0000, 0.0000, 0.5608, 0.9412, 1.0000, 0.9961, 0.9961, 0.9961, 0.9961, 1.0000, 0.9961,\n",
      "           0.9961, 0.9961, 0.9961, 1.0000, 0.8863, 0.3843, 0.0000, 0.0000, 0.0000, 0.0000, 0.0000],\n",
      "          [0.0000, 0.0000, 0.0000, 0.0000, 0.0000, 0.0000, 0.0000, 0.0000, 0.0000, 0.2667, 0.6196, 0.9137, 0.9686, 0.9922, 0.9922, 0.9961, 0.9922,\n",
      "           0.9922, 0.9804, 0.9137, 0.4471, 0.0824, 0.0000, 0.0000, 0.0000, 0.0000, 0.0000, 0.0000],\n",
      "          [0.0000, 0.0000, 0.0000, 0.0000, 0.0000, 0.0000, 0.0000, 0.0000, 0.0000, 0.0000, 0.0000, 0.0000, 0.2118, 0.3059, 0.5961, 0.6863, 0.6824,\n",
      "           0.6824, 0.2863, 0.0000, 0.0000, 0.0000, 0.0000, 0.0000, 0.0000, 0.0000, 0.0000, 0.0000],\n",
      "          [0.0000, 0.0000, 0.0000, 0.0000, 0.0000, 0.0000, 0.0000, 0.0000, 0.0000, 0.0000, 0.0000, 0.0000, 0.0000, 0.0000, 0.0000, 0.0000, 0.0000,\n",
      "           0.0000, 0.0000, 0.0000, 0.0000, 0.0000, 0.0000, 0.0000, 0.0000, 0.0000, 0.0000, 0.0000],\n",
      "          [0.0000, 0.0000, 0.0000, 0.0000, 0.0000, 0.0000, 0.0000, 0.0000, 0.0000, 0.0000, 0.0000, 0.0000, 0.0000, 0.0000, 0.0000, 0.0000, 0.0000,\n",
      "           0.0000, 0.0000, 0.0000, 0.0000, 0.0000, 0.0000, 0.0000, 0.0000, 0.0000, 0.0000, 0.0000],\n",
      "          [0.0000, 0.0000, 0.0000, 0.0000, 0.0000, 0.0000, 0.0000, 0.0000, 0.0000, 0.0000, 0.0000, 0.0000, 0.0000, 0.0000, 0.0000, 0.0000, 0.0000,\n",
      "           0.0000, 0.0000, 0.0000, 0.0000, 0.0000, 0.0000, 0.0000, 0.0000, 0.0000, 0.0000, 0.0000],\n",
      "          [0.0000, 0.0000, 0.0000, 0.0000, 0.0000, 0.0000, 0.0000, 0.0000, 0.0000, 0.0000, 0.0000, 0.0000, 0.0000, 0.0000, 0.0000, 0.0000, 0.0000,\n",
      "           0.0000, 0.0000, 0.0000, 0.0000, 0.0000, 0.0000, 0.0000, 0.0000, 0.0000, 0.0000, 0.0000],\n",
      "          [0.0000, 0.0000, 0.0000, 0.0000, 0.0000, 0.0000, 0.0000, 0.0000, 0.0000, 0.0000, 0.0000, 0.0000, 0.0000, 0.0000, 0.0000, 0.0000, 0.0000,\n",
      "           0.0000, 0.0000, 0.0000, 0.0000, 0.0000, 0.0000, 0.0000, 0.0000, 0.0000, 0.0000, 0.0000]]]]), tensor([0])]\n"
     ]
    }
   ],
   "source": [
    "from torch.utils.data import RandomSampler\n",
    "train_set = datasets.MNIST(root='./mnist_data/', train=True, transform=transforms.ToTensor(), download=True)\n",
    "#print(train_set.data[0])\n",
    "train_loader = DataLoader(dataset=train_set, batch_size=1, sampler=RandomSampler(tr ain_set, replacement=True))\n",
    "print(next(iter(train_loader)))"
   ]
  },
  {
   "cell_type": "markdown",
   "metadata": {},
   "source": [
    "## Epochs"
   ]
  },
  {
   "cell_type": "code",
   "execution_count": 29,
   "metadata": {},
   "outputs": [
    {
     "name": "stdout",
     "output_type": "stream",
     "text": [
      "Time ellapsed in training is: 7.181997060775757\n",
      "[Test set] Average loss: 0.0932, Accuracy: 1930/1991 (96.94%)\n",
      "\n"
     ]
    },
    {
     "data": {
      "image/png": "[encoded data removed]",
      "text/plain": [
       "<Figure size 1080x432 with 3 Axes>"
      ]
     },
     "metadata": {
      "needs_background": "light"
     },
     "output_type": "display_data"
    },
    {
     "data": {
      "image/png": "[encoded data removed]",
      "text/plain": [
       "<Figure size 1080x432 with 3 Axes>"
      ]
     },
     "metadata": {
      "needs_background": "light"
     },
     "output_type": "display_data"
    }
   ],
   "source": [
    "import torch\n",
    "import torch.nn as nn\n",
    "from torch.optim import Optimizer\n",
    "from torch.utils.data import DataLoader\n",
    "from torchvision import datasets\n",
    "from torchvision.transforms import transforms\n",
    "import matplotlib.pyplot as plt\n",
    "\n",
    "'''\n",
    "Step 1: (same step)\n",
    "'''\n",
    "# Use data with only 4 and 9 as labels: which is hardest to classify\n",
    "label_1, label_2 = 4, 9\n",
    "\n",
    "# MNIST training data\n",
    "train_set = datasets.MNIST(root='./mnist_data/', train=True, transform=transforms.ToTensor(), download=True)\n",
    "\n",
    "# Use data with two labels\n",
    "idx = (train_set.targets == label_1) + (train_set.targets == label_2)\n",
    "train_set.data = train_set.data[idx]\n",
    "train_set.targets = train_set.targets[idx]\n",
    "train_set.targets[train_set.targets == label_1] = -1\n",
    "train_set.targets[train_set.targets == label_2] = 1\n",
    "\n",
    "# MNIST testing data\n",
    "test_set = datasets.MNIST(root='./mnist_data/', train=False, transform=transforms.ToTensor())\n",
    "\n",
    "# Use data with two labels\n",
    "idx = (test_set.targets == label_1) + (test_set.targets == label_2)\n",
    "test_set.data = test_set.data[idx]\n",
    "test_set.targets = test_set.targets[idx]\n",
    "test_set.targets[test_set.targets == label_1] = -1\n",
    "test_set.targets[test_set.targets == label_2] = 1\n",
    "    \n",
    "\n",
    "'''\n",
    "Step 2: (same step)\n",
    "'''\n",
    "class LR(nn.Module) :\n",
    "    '''\n",
    "    Initialize model\n",
    "        input_dim : dimension of given input data\n",
    "    '''\n",
    "    # MNIST data is 28x28 images\n",
    "    def __init__(self, input_dim=28*28) :\n",
    "        super().__init__()\n",
    "        self.linear = nn.Linear(input_dim, 1, bias=False)\n",
    "\n",
    "    ''' forward given input x '''\n",
    "    def forward(self, x) :\n",
    "        return self.linear(x.float().view(-1, 28*28))\n",
    "\n",
    "'''\n",
    "Step 3: (same step)\n",
    "'''\n",
    "model = LR()                                   # Define a Neural Network Model\n",
    "\n",
    "def logistic_loss(output, target):\n",
    "    return -torch.nn.functional.logsigmoid(target*output)\n",
    "\n",
    "loss_function = logistic_loss                                                   # Specify loss function\n",
    "optimizer = torch.optim.SGD(model.parameters(), lr=255*1e-4)   # specify SGD with learning rate\n",
    "\n",
    "\n",
    "\n",
    "'''\n",
    "Step 4: Train model with SGD (LOOK HERE)\n",
    "'''\n",
    "train_loader = DataLoader(dataset=train_set, batch_size=1, shuffle=True)\n",
    "\n",
    "import time\n",
    "start = time.time()\n",
    "# Train the model for 3 epochs\n",
    "for epoch in range(3) :\n",
    "    for image, label in train_loader :\n",
    "        # Clear previously computed gradient\n",
    "        optimizer.zero_grad()\n",
    "\n",
    "        # then compute gradient with forward and backward passes\n",
    "        train_loss = loss_function(model(image), label.float())\n",
    "        train_loss.backward()\n",
    "\n",
    "        # perform SGD step (parameter update)\n",
    "        optimizer.step()\n",
    "end = time.time()\n",
    "print(\"Time ellapsed in training is: {}\".format(end - start))\n",
    "\n",
    "'''\n",
    "Step 5: (same step)\n",
    "'''\n",
    "test_loss, correct = 0, 0\n",
    "misclassified_ind = []\n",
    "correct_ind = []\n",
    "\n",
    "# Test data\n",
    "test_loader = DataLoader(dataset=test_set, batch_size=1, shuffle=False)\n",
    "# no need to shuffle test data\n",
    "\n",
    "# Evaluate accuracy using test data\n",
    "for ind, (image, label) in enumerate(test_loader) :\n",
    "\n",
    "    # Forward pass\n",
    "    output = model(image)\n",
    "\n",
    "    # Calculate cumulative loss\n",
    "    test_loss += loss_function(output, label.float()).item()\n",
    "\n",
    "    # Make a prediction\n",
    "    if output.item() * label.item() >= 0 : \n",
    "        correct += 1\n",
    "        correct_ind += [ind]\n",
    "    else:\n",
    "        misclassified_ind += [ind]\n",
    "\n",
    "# Print out the results\n",
    "print('[Test set] Average loss: {:.4f}, Accuracy: {}/{} ({:.2f}%)\\n'.format(\n",
    "        test_loss /len(test_loader), correct, len(test_loader),\n",
    "        100. * correct / len(test_loader)))\n",
    "\n",
    "'''\n",
    "Step 6: (same step)\n",
    "''' \n",
    "# Misclassified images\n",
    "fig = plt.figure(1, figsize=(15, 6))\n",
    "fig.suptitle('Misclassified Figures', fontsize=16)\n",
    "\n",
    "for k in range(3) :\n",
    "    image = test_set.data[misclassified_ind[k]].cpu().numpy().astype('uint8')\n",
    "    ax = fig.add_subplot(1, 3, k+1)\n",
    "    true_label = test_set.targets[misclassified_ind[k]]\n",
    "\n",
    "    if true_label == -1 :\n",
    "        ax.set_title('True Label: {}\\nPrediction: {}'.format(label_1, label_2))\n",
    "    else :\n",
    "        ax.set_title('True Label: {}\\nPrediction: {}'.format(label_2, label_1))\n",
    "    plt.imshow(image, cmap='gray')\n",
    "plt.show()\n",
    "\n",
    "# Correctly classified images\n",
    "fig = plt.figure(2, figsize=(15, 6))\n",
    "fig.suptitle('Correctly-classified Figures', fontsize=16)\n",
    "\n",
    "for k in range(3) :\n",
    "    image = test_set.data[correct_ind[k]].cpu().numpy().astype('uint8')\n",
    "    ax = fig.add_subplot(1, 3, k+1)\n",
    "    true_label = test_set.targets[correct_ind[k]]\n",
    "\n",
    "    if true_label == -1 :\n",
    "        ax.set_title('True Label: {}\\nPrediction: {}'.format(label_1, label_1))\n",
    "    else :\n",
    "        ax.set_title('True Label: {}\\nPrediction: {}'.format(label_2, label_2))\n",
    "    plt.imshow(image, cmap='gray')\n",
    "plt.show()\n"
   ]
  },
  {
   "cell_type": "code",
   "execution_count": null,
   "metadata": {},
   "outputs": [],
   "source": []
  },
  {
   "cell_type": "code",
   "execution_count": null,
   "metadata": {},
   "outputs": [],
   "source": []
  }
 ],
 "metadata": {
  "kernelspec": {
   "display_name": "Python 3",
   "language": "python",
   "name": "python3"
  },
  "language_info": {
   "codemirror_mode": {
    "name": "ipython",
    "version": 3
   },
   "file_extension": ".py",
   "mimetype": "text/x-python",
   "name": "python",
   "nbconvert_exporter": "python",
   "pygments_lexer": "ipython3",
   "version": "3.7.7"
  }
 },
 "nbformat": 4,
 "nbformat_minor": 4
}
