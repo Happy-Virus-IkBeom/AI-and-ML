{
 "cells": [
  {
   "cell_type": "markdown",
   "metadata": {},
   "source": [
    "# Week 3\n",
    "## Perceptron"
   ]
  },
  {
   "cell_type": "code",
   "execution_count": 1,
   "metadata": {},
   "outputs": [],
   "source": [
    "%matplotlib qt"
   ]
  },
  {
   "cell_type": "code",
   "execution_count": 2,
   "metadata": {},
   "outputs": [],
   "source": [
    "import numpy as np\n",
    "import matplotlib.pyplot as plt"
   ]
  },
  {
   "cell_type": "code",
   "execution_count": 89,
   "metadata": {},
   "outputs": [
    {
     "name": "stdout",
     "output_type": "stream",
     "text": [
      "X is \n",
      " [[ 1.76405235  0.40015721  0.97873798  2.2408932   1.86755799 -0.97727788\n",
      "   0.95008842 -0.15135721 -0.10321885  0.4105985   0.14404357  1.45427351\n",
      "   0.76103773  0.12167502  0.44386323  0.33367433  1.49407907 -0.20515826\n",
      "   0.3130677  -0.85409574 -2.55298982  0.6536186   0.8644362  -0.74216502\n",
      "   2.26975462 -1.45436567  0.04575852 -0.18718385  1.53277921  1.46935877]\n",
      " [ 0.15494743  0.37816252 -0.88778575 -1.98079647 -0.34791215  0.15634897\n",
      "   1.23029068  1.20237985 -0.38732682 -0.30230275 -1.04855297 -1.42001794\n",
      "  -1.70627019  1.9507754  -0.50965218 -0.4380743  -1.25279536  0.77749036\n",
      "  -1.61389785 -0.21274028 -0.89546656  0.3869025  -0.51080514 -1.18063218\n",
      "  -0.02818223  0.42833187  0.06651722  0.3024719  -0.63432209 -0.36274117]]\n",
      "y is \n",
      " [ 1.  1.  1.  1.  1. -1.  1. -1. -1.  1.  1.  1.  1.  1.  1.  1.  1. -1.\n",
      "  1. -1. -1.  1.  1. -1.  1. -1.  1. -1.  1.  1.]\n",
      "[ True  True  True  True  True False  True False False  True  True  True\n",
      "  True  True  True  True  True False  True False False  True  True False\n",
      "  True False  True False  True  True]\n",
      "[ 0.15494743  0.37816252 -0.88778575 -1.98079647 -0.34791215  1.23029068\n",
      " -0.30230275 -1.04855297 -1.42001794 -1.70627019  1.9507754  -0.50965218\n",
      " -0.4380743  -1.25279536 -1.61389785  0.3869025  -0.51080514 -0.02818223\n",
      "  0.06651722 -0.63432209 -0.36274117]\n",
      "[-2.55298982 -1.98079647]\n",
      "-2.652989815834079\n",
      "-2.080796468223927\n"
     ]
    },
    {
     "name": "stderr",
     "output_type": "stream",
     "text": [
      "C:\\ProgramData\\Anaconda3\\lib\\site-packages\\ipykernel_launcher.py:13: MatplotlibDeprecationWarning: Adding an axes using the same arguments as a previous axes currently reuses the earlier instance.  In a future version, a new instance will always be created and returned.  Meanwhile, this warning can be suppressed, and the future behavior ensured, by passing a unique label to each axes instance.\n",
      "  del sys.path[0]\n"
     ]
    }
   ],
   "source": [
    "# Generate random data\n",
    "N = 30\n",
    "np.random.seed(0)\n",
    "\n",
    "# X 는 X[0], X[1] 를 벡터로 갖는 2차원이다. 각  벡터는 원소가 N개가 있음. X[0]을 x 축, X[1]이 y축이라고 생각하면 이해하기 쉬움.\n",
    "X = np.random.randn(2, N)\n",
    "y = np.sign(X[0, :])\n",
    "\n",
    "print(f'X is \\n {X}')\n",
    "print(f'y is \\n {y}')\n",
    "\n",
    "plt.cla()\n",
    "plt.subplot(2,1,1)\n",
    "\n",
    "# X[0] 이 양수인것 을 x-axis에 plot 하고 그것의 index 를 추출해서 X[1]의 원소를 뽑아내 y-axis에 plot 함. \n",
    "plt.plot(X[0, y==1], X[1, y==1], color='blue', marker='+', linestyle='None')\n",
    "\n",
    "# X[0] 이 음수인것 을 x-axis에 plot 하고 그것의 index 를 추출해서 X[1]의 원소를 뽑아내 y-axis에 plot 함. \n",
    "plt.plot(X[0, y==-1], X[1, y==-1], color='red', marker='x', linestyle='None')\n",
    "\n",
    "print(y==1)\n",
    "print(X[1, y==1])\n",
    "\n",
    "x_min, y_min = np.min(X, axis=1) - 0.1\n",
    "x_max, y_max = np.max(X, axis=1) + 0.1\n",
    "\n",
    "print(np.min(X, axis=1))\n",
    "print(x_min)\n",
    "print(y_min)\n",
    "\n",
    "\n",
    "plt.xlim((x_min, x_max))\n",
    "plt.ylim((y_min, y_max))\n",
    "plt.show()"
   ]
  },
  {
   "cell_type": "code",
   "execution_count": 90,
   "metadata": {},
   "outputs": [
    {
     "name": "stdout",
     "output_type": "stream",
     "text": [
      "[[ 1.3292994   0.7445406   2.11995959  3.51431931  1.84138344  0.58445785\n",
      "   0.07350159 -0.19836336  1.34481463  1.40233287  2.04831856  2.76121576\n",
      "   2.84872224 -0.84465723  1.61093246  1.51215243  2.61105684  0.19600894\n",
      "   2.63831552  0.97312205  1.16949154  0.80487098  1.72610831  1.93509333\n",
      "   1.64271962  0.19327544  0.94838638  0.65809795  2.02626096  1.74765866]\n",
      " [ 2.73995727  1.48772244  1.70127176  2.61967756  2.70319982  0.10175628\n",
      "   2.24815218  1.1804205   0.79560072  1.31321933  0.85426029  2.01463364\n",
      "   1.26974518  1.6461959   1.28900077  1.20235497  2.09830066  1.01339917\n",
      "   0.86361859  0.12021847 -1.70016481  1.73405414  1.69349734 -0.03455388\n",
      "   3.17703739 -0.28368345  1.06208395  0.90186729  2.30329009  2.31590383]]\n",
      "[ True  True  True  True  True False  True False False  True  True  True\n",
      "  True  True  True  True  True False  True False False  True  True False\n",
      "  True False  True False  True  True]\n"
     ]
    }
   ],
   "source": [
    "# Rotate\n",
    "theta = np.random.rand() + 1 # (np.pi / 2) 실험해본것.\n",
    "c, s = np.cos(theta), np.sin(theta)\n",
    "X = np.array([[c, -s], [s, c]])@X\n",
    "\n",
    "# add bias\n",
    "X = X + np.array([[1],[1]])\n",
    "print(X)\n",
    "x_min, y_min = np.min(X, axis=1) - 0.1\n",
    "x_max, y_max = np.max(X, axis=1) + 0.1\n",
    "\n",
    "plt.subplot(2,1,2)\n",
    "plt.xlim((x_min, x_max))\n",
    "plt.ylim((y_min, y_max))\n",
    "\n",
    "plt.cla()\n",
    "\n",
    "print(y==1) # y 는 위에 block 에서 선언했음. 즉, X가 회전하기 전에 plot 한것을 기억. \n",
    "            # 즉, 아래에서 plot 을 하면 앞 block 에서의 그래프가 회전한것이 됨.\n",
    "\n",
    "plt.plot(X[0, y==1], X[1, y==1], color='blue',marker='+',linestyle='None')\n",
    "plt.plot(X[0, y==-1], X[1, y==-1], color='red',marker='x',linestyle='None')\n",
    "\n",
    "plt.xlim((x_min, x_max))\n",
    "plt.ylim((y_min, y_max))\n",
    "plt.show()"
   ]
  },
  {
   "cell_type": "code",
   "execution_count": 117,
   "metadata": {
    "scrolled": true
   },
   "outputs": [
    {
     "name": "stdout",
     "output_type": "stream",
     "text": [
      "No misclassificaion. Converged\n"
     ]
    }
   ],
   "source": [
    "#Perceptron algorithm\n",
    "a = np.zeros(2) # 2-dimensional\n",
    "b = np.zeros(1) # 1-dimensional\n",
    "\n",
    "\n",
    "for _ in range(1000):\n",
    "    for i in range(N):\n",
    "        if np.sign(X[:,i].T@a+b) != y[i]:\n",
    "            x_curr, y_curr = X[:,i], y[i]\n",
    "            break\n",
    "    else : \n",
    "        print(\"No misclassificaion. Converged\")\n",
    "        break\n",
    "    a += y_curr*x_curr  # a^{(k+1)} = a^{(k)} + y*x\n",
    "    b += y_curr  # b^{(k+1)} = b^{(k)} + y\n",
    "\n",
    "    #Plot results\n",
    "    plt.cla()\n",
    "    plt.plot(X[0, y==1],X[1, y==1], color='blue',marker='+',linestyle='None')\n",
    "    plt.plot(X[0, y==-1],X[1, y==-1], color='red',marker='x',linestyle='None')\n",
    "    x_range = np.arange(-1,4)\n",
    "    plt.plot(x_range,-(a[0]*x_range+b)/a[1], color='green')\n",
    "    plt.xlim((x_min, x_max))\n",
    "    plt.ylim((y_min, y_max))\n",
    "    plt.show()\n",
    "\n",
    "    plt.pause(0.2) # Add time delay.\n"
   ]
  },
  {
   "cell_type": "code",
   "execution_count": 118,
   "metadata": {},
   "outputs": [],
   "source": [
    "def plot_Xy(X, y):\n",
    "    \n",
    "    plt.cla()\n",
    "    plt.plot(X[0, y==1], X[1, y==1], color='blue',marker='+',linestyle='None')\n",
    "    plt.plot(X[0, y==-1], X[1, y==-1], color='red',marker='x',linestyle='None')\n",
    "\n",
    "    x_min, y_min = np.min(X, axis=1) - 0.1\n",
    "    x_max, y_max = np.max(X, axis=1) + 0.1\n",
    "\n",
    "    plt.xlim((x_min, x_max))\n",
    "    plt.ylim((y_min, y_max))\n",
    "    plt.show()"
   ]
  },
  {
   "cell_type": "code",
   "execution_count": 141,
   "metadata": {},
   "outputs": [],
   "source": [
    "# Generate random data\n",
    "N = 30\n",
    "np.random.seed(0) # 앞서 출력했던 난수를 똑같이 불러옴.\n",
    "X = np.random.randn(2, N) \n",
    "y = np.sign(X[0,:])\n",
    "\n",
    "plot_Xy(X, y)"
   ]
  },
  {
   "cell_type": "code",
   "execution_count": 142,
   "metadata": {},
   "outputs": [],
   "source": [
    "# Rotate\n",
    "theta = np.random.rand() + 1\n",
    "c, s = np.cos(theta), np.sin(theta)\n",
    "X = np.array([[c, -s], [s, c]])@X\n",
    "\n",
    "# add bias\n",
    "X = X + np.array([[1],[1]])\n",
    "\n",
    "# we have new X, y\n",
    "plot_Xy(X, y)"
   ]
  },
  {
   "cell_type": "code",
   "execution_count": 143,
   "metadata": {},
   "outputs": [],
   "source": [
    "def plot_Xy(X, y, a=None, b=None):\n",
    "    \n",
    "    plt.cla()\n",
    "    plt.plot(X[0, y==1],X[1, y==1], color='blue', marker='+', linestyle='None')\n",
    "    plt.plot(X[0, y==-1],X[1, y==-1], color='red', marker='x', linestyle='None')\n",
    "\n",
    "    x_min, y_min = np.min(X, axis=1) - 0.1\n",
    "    x_max, y_max = np.max(X, axis=1) + 0.1\n",
    "\n",
    "    if a is not None and b is not None:\n",
    "        x_range = np.arange(x_min, x_max)\n",
    "        plt.plot(x_range, -(a[0]*x_range+b)/a[1], color='green')\n",
    "\n",
    "    plt.xlim((x_min, x_max))\n",
    "    plt.ylim((y_min, y_max))\n",
    "    plt.show()"
   ]
  },
  {
   "cell_type": "code",
   "execution_count": 144,
   "metadata": {},
   "outputs": [
    {
     "name": "stdout",
     "output_type": "stream",
     "text": [
      "No misclassificaion. Converged\n"
     ]
    }
   ],
   "source": [
    "#Perceptron algorithm\n",
    "a = np.zeros(2)\n",
    "b = np.zeros(1)\n",
    "\n",
    "for _ in range(1000):\n",
    "    for i in range(N):\n",
    "        if np.sign(X[:,i].T@a+b) != y[i]:\n",
    "            x_curr, y_curr = X[:,i], y[i]\n",
    "            break\n",
    "    else : \n",
    "        print(\"No misclassificaion. Converged\")\n",
    "        break\n",
    "    a += y_curr*x_curr\n",
    "    b += y_curr\n",
    "\n",
    "    #Plot results\n",
    "    plot_Xy(X, y, a, b)\n",
    "    plt.pause(0.01)"
   ]
  },
  {
   "cell_type": "code",
   "execution_count": 145,
   "metadata": {},
   "outputs": [],
   "source": [
    "def update_ab(X, y, a, b):\n",
    "    for i in range(N):\n",
    "        if np.sign(X[:,i].T@a+b) != y[i]:\n",
    "            x_curr, y_curr = X[:,i], y[i]\n",
    "            break\n",
    "    else : \n",
    "        return None, None\n",
    "    a += y_curr*x_curr\n",
    "    b += y_curr\n",
    "    return a, b"
   ]
  },
  {
   "cell_type": "code",
   "execution_count": 146,
   "metadata": {},
   "outputs": [
    {
     "name": "stdout",
     "output_type": "stream",
     "text": [
      "No misclassificaion. Converged\n"
     ]
    }
   ],
   "source": [
    "#Perceptron algorithm\n",
    "a = np.zeros(2)\n",
    "b = np.zeros(1)\n",
    "\n",
    "for _ in range(1000):\n",
    "    a, b = update_ab(X, y, a, b)\n",
    "    \n",
    "    if a is None or b is None:\n",
    "        print(\"No misclassificaion. Converged\")\n",
    "        break\n",
    "        \n",
    "    #Plot results\n",
    "    plot_Xy(X, y, a, b)\n",
    "\n",
    "    plt.pause(0.01)"
   ]
  },
  {
   "cell_type": "code",
   "execution_count": 152,
   "metadata": {},
   "outputs": [],
   "source": [
    "# Generate random data (not separable)\n",
    "N = 30\n",
    "np.random.seed(0)\n",
    "X = np.random.randn(2, N)\n",
    "y = np.random.randint(2, size=N) * 2 - 1\n",
    "plot_Xy(X, y)"
   ]
  },
  {
   "cell_type": "code",
   "execution_count": 153,
   "metadata": {},
   "outputs": [],
   "source": [
    "#Perceptron algorithm\n",
    "a = np.zeros(2)\n",
    "b = np.zeros(1)\n",
    "\n",
    "for _ in range(1000):\n",
    "    a, b = update_ab(X, y, a, b)\n",
    "    \n",
    "    if a is None or b is None:\n",
    "        print(\"No misclassificaion. Converged\")\n",
    "        break\n",
    "        \n",
    "    #Plot results\n",
    "    plot_Xy(X, y, a, b)\n",
    "\n",
    "    plt.pause(0.01)"
   ]
  },
  {
   "cell_type": "code",
   "execution_count": 155,
   "metadata": {},
   "outputs": [],
   "source": []
  },
  {
   "cell_type": "code",
   "execution_count": null,
   "metadata": {},
   "outputs": [],
   "source": []
  }
 ],
 "metadata": {
  "kernelspec": {
   "display_name": "Python 3",
   "language": "python",
   "name": "python3"
  },
  "language_info": {
   "codemirror_mode": {
    "name": "ipython",
    "version": 3
   },
   "file_extension": ".py",
   "mimetype": "text/x-python",
   "name": "python",
   "nbconvert_exporter": "python",
   "pygments_lexer": "ipython3",
   "version": "3.6.10"
  }
 },
 "nbformat": 4,
 "nbformat_minor": 4
}
